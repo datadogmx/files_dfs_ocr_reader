{
 "cells": [
  {
   "cell_type": "code",
   "execution_count": 1,
   "id": "56a96a0b-9b4a-48c8-a2b2-50c03b845c55",
   "metadata": {},
   "outputs": [],
   "source": [
    "import pandas as pd\n",
    "import cv2\n",
    "import pandas as pd\n",
    "import pytesseract\n",
    "import json\n",
    "from pytesseract import Output\n",
    "import seaborn as sns\n",
    "from matplotlib import pyplot as plt\n",
    "\n",
    "pd.set_option('display.max_columns', None)  \n",
    "pd.set_option('display.expand_frame_repr', False)\n",
    "pd.set_option('max_colwidth', False)"
   ]
  },
  {
   "cell_type": "code",
   "execution_count": 2,
   "id": "1ec91594-a046-4e00-b250-ae08d6006899",
   "metadata": {},
   "outputs": [],
   "source": [
    "import sys\n",
    "home_path = \"../\"\n",
    "sys.path.insert(0, home_path)"
   ]
  },
  {
   "cell_type": "code",
   "execution_count": 3,
   "id": "b259391d-280c-420d-8dcf-3d3de54f0607",
   "metadata": {},
   "outputs": [],
   "source": [
    "from ocr_dfs.text_dfs_analyzer import TextDFSEvaluator"
   ]
  },
  {
   "cell_type": "code",
   "execution_count": 4,
   "id": "0a573c23-6801-4942-a891-4cfbfe69b5a2",
   "metadata": {},
   "outputs": [],
   "source": [
    "text_evaluator = TextDFSEvaluator(\"../models/word_vectorizer.pckl\", \"../models/word_integrity.pckl\")"
   ]
  },
  {
   "cell_type": "code",
   "execution_count": 27,
   "id": "30bcf616-7965-4f1b-98be-8027ea947975",
   "metadata": {},
   "outputs": [
    {
     "data": {
      "text/plain": [
       "(array([1, 1]), array([0.97333333, 0.98      ]))"
      ]
     },
     "execution_count": 27,
     "metadata": {},
     "output_type": "execute_result"
    }
   ],
   "source": [
    "text_evaluator.evaluate([\"\"\"grupo que opera en la sierra - W\n",
    "la siguiente: INVESTIGACION+. H\n",
    "\n",
    "ñora como NELLY MARQUEZ ESPINO |\n",
    "tación en esta Dirección Fede- M\n",
    "E interrogado manifestó ser -=- E\n",
    "es, Chis., de 28 años de edad, Y\n",
    "2 En Retorno 23, número 3 de -\n",
    "Jardín Balbuena, trabaja como-= Y\n",
    "31 de Pediatría del Centro mé- MA\n",
    "21 6o0.semestre de la carrera - E\n",
    "aunque aceptó conocer a Eulo- É\n",
    "I sostenido relaciones con és le\n",
    "elación con FERMIN RODRIGUEZ [MN\n",
    "ideología es Marxista, lo cual E\n",
    "E\"\"\", \"\"\"grupo que opera en la sierra =\n",
    "la siguiente: INVESTIGACION 3\n",
    "ñora como NELLY EARCUEZ ESPINO\n",
    "tación en esta Dirección Fede-\n",
    "r interrogado manifestó ser --\n",
    "eS, Chis., de 28 años de edad,\n",
    "9 en Retorno 23, número 3 de -\n",
    "Jardín Balbuena, trabaja como-\n",
    "21 de Pediatría del Centro Mé-\n",
    "21 60.semestre de la carrera -\n",
    "aunque acepté conocer a Eulo-\n",
    "Xx sostenido relaciones con és\n",
    "elación con FERMIN RODRIGUEZ=\n",
    "ideología es Marxista, lo cual\n",
    "estonoce:á ante -la autoridad o\"\"\"])"
   ]
  },
  {
   "cell_type": "code",
   "execution_count": 24,
   "id": "b7eb89a8-ec43-4e53-aee5-f003ecc7d397",
   "metadata": {},
   "outputs": [
    {
     "data": {
      "text/plain": [
       "(array([0]), array([0.31]))"
      ]
     },
     "execution_count": 24,
     "metadata": {},
     "output_type": "execute_result"
    }
   ],
   "source": [
    "text_evaluator.evaluate([\"\"\"\"\"\"])"
   ]
  },
  {
   "cell_type": "code",
   "execution_count": 17,
   "id": "994dd4d8-5e54-4cdc-a668-08791fb7dec6",
   "metadata": {},
   "outputs": [],
   "source": [
    "import numpy as np"
   ]
  },
  {
   "cell_type": "code",
   "execution_count": 26,
   "id": "a64c7b9d-9d78-4da3-a3ad-2eaf281f2e7b",
   "metadata": {},
   "outputs": [
    {
     "data": {
      "text/plain": [
       "0"
      ]
     },
     "execution_count": 26,
     "metadata": {},
     "output_type": "execute_result"
    }
   ],
   "source": [
    "np.argmax([0.3,0.2,0.0])"
   ]
  },
  {
   "cell_type": "code",
   "execution_count": null,
   "id": "57b9ba11-4bbf-4cc2-8381-d6fa7ae7c110",
   "metadata": {},
   "outputs": [],
   "source": []
  }
 ],
 "metadata": {
  "kernelspec": {
   "display_name": "Python 3 (ipykernel)",
   "language": "python",
   "name": "python3"
  },
  "language_info": {
   "codemirror_mode": {
    "name": "ipython",
    "version": 3
   },
   "file_extension": ".py",
   "mimetype": "text/x-python",
   "name": "python",
   "nbconvert_exporter": "python",
   "pygments_lexer": "ipython3",
   "version": "3.8.11"
  }
 },
 "nbformat": 4,
 "nbformat_minor": 5
}
